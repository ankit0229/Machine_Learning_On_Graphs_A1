{
 "cells": [
  {
   "cell_type": "code",
   "execution_count": 1,
   "metadata": {},
   "outputs": [
    {
     "name": "stdout",
     "output_type": "stream",
     "text": [
      "No. of nodes = 5242\n",
      "No. of edges = 14484\n"
     ]
    }
   ],
   "source": [
    "%run problem_3a.ipynb"
   ]
  },
  {
   "cell_type": "code",
   "execution_count": 2,
   "metadata": {},
   "outputs": [
    {
     "name": "stdout",
     "output_type": "stream",
     "text": [
      "No. of nodes in the graph = 5242\n",
      "No. of edges after adding immediate neighbours= 5242\n",
      "No. of edges after adding 2 hop neighbours= 10484\n",
      "No. of all possible edges = 13736661\n",
      "No. of remaining edges = 13726180\n",
      "Finally no. of edges in the graph after adding 4000 random edges also= 14484\n"
     ]
    }
   ],
   "source": [
    "%run problem_3b.ipynb"
   ]
  },
  {
   "cell_type": "code",
   "execution_count": 3,
   "metadata": {},
   "outputs": [
    {
     "name": "stdout",
     "output_type": "stream",
     "text": [
      "No. of edges in graph excluding repeats and including self loops = 14496\n",
      "No. of nodes in the graph = 5242\n",
      "No. of edges in graph exluding repeats and self loops = 14484\n"
     ]
    }
   ],
   "source": [
    "%run problem_3c.ipynb"
   ]
  },
  {
   "cell_type": "code",
   "execution_count": 4,
   "metadata": {},
   "outputs": [],
   "source": [
    "import networkx\n",
    "from collections import Counter\n",
    "G_temp = networkx.Graph()\n",
    "def find_clustering_coeff(G_temp):\n",
    "    list_edges_temp = G_temp.edges()\n",
    "    list_nodes_temp = G_temp.nodes()\n",
    "    dict_node_degree = {}\n",
    "    dict_neighbour = {}\n",
    "    dict_edges = {}\n",
    "    for mm in list_edges_temp:\n",
    "        dict_edges[mm] = 1\n",
    "    for a in list_nodes_temp:\n",
    "        dict_node_degree[a] = 0\n",
    "        dict_neighbour[a] = []\n",
    "    for x in list_edges_temp:\n",
    "        s = x[0]\n",
    "        d = x[1]\n",
    "        dict_node_degree[s] = dict_node_degree[s] + 1\n",
    "        dict_node_degree[d] = dict_node_degree[d] + 1\n",
    "        if dict_neighbour.get(s) is None:\n",
    "            lst = []\n",
    "            lst.append(d)\n",
    "            dict_neighbour[s] = lst\n",
    "        else:\n",
    "            dict_neighbour[s].append(d)\n",
    "        \n",
    "        if dict_neighbour.get(d) is None:\n",
    "            lst = []\n",
    "            lst.append(d)\n",
    "            dict_neighbour[d] = lst\n",
    "        else:\n",
    "            dict_neighbour[d].append(s)\n",
    "    \n",
    "    dict_ei_val = {}\n",
    "    for nn in dict_neighbour:\n",
    "        lst_nn = dict_neighbour[nn]\n",
    "        cnt_ei = 0\n",
    "        for i in range(0, len(lst_nn)):\n",
    "            for j in range(0,len(lst_nn)):\n",
    "                pair = (lst_nn[i], lst_nn[j])\n",
    "                if dict_edges.get(pair) is not None:\n",
    "                    cnt_ei += 1\n",
    "        \n",
    "        dict_ei_val[nn] = cnt_ei\n",
    "    ret_val = []\n",
    "    ret_val.append(dict_node_degree)\n",
    "    ret_val.append(dict_ei_val)\n",
    "    dict_clustering_coeff = {}\n",
    "    for ele in dict_node_degree:\n",
    "        ki = dict_node_degree[ele]\n",
    "        if ki == 0 or ki == 1:\n",
    "            dict_clustering_coeff[ele] = 0\n",
    "        else:\n",
    "            ei = dict_ei_val[ele]\n",
    "            clust_val = (2 * ei) / (ki * (ki - 1))\n",
    "            dict_clustering_coeff[ele] = clust_val\n",
    "    sum_clust_coeff = 0\n",
    "    for val in dict_clustering_coeff:\n",
    "        sum_clust_coeff += dict_clustering_coeff[val]\n",
    "    avg_clust_coeff = sum_clust_coeff / len(list_nodes_temp)\n",
    "    return avg_clust_coeff"
   ]
  },
  {
   "cell_type": "code",
   "execution_count": 5,
   "metadata": {},
   "outputs": [
    {
     "name": "stdout",
     "output_type": "stream",
     "text": [
      "Average clustering coefficient of graph a= 0.0026081865694608927\n",
      "Average clustering coefficient of graph b= 0.284644821243443\n",
      "Average clustering coefficient of graph c = 0.529635811052136\n"
     ]
    }
   ],
   "source": [
    "list_grp = ['A', 'B', 'C']\n",
    "list_clust = []\n",
    "\n",
    "val_ret = find_clustering_coeff(Grph_a)\n",
    "list_clust.append(val_ret)\n",
    "print(f\"Average clustering coefficient of graph a= {val_ret}\")\n",
    "\n",
    "val_ret = find_clustering_coeff(Grph_b)\n",
    "list_clust.append(val_ret)\n",
    "print(f\"Average clustering coefficient of graph b= {val_ret}\")\n",
    "\n",
    "val_ret = find_clustering_coeff(Grph_c)\n",
    "list_clust.append(val_ret)\n",
    "print(f\"Average clustering coefficient of graph c = {val_ret}\")\n"
   ]
  },
  {
   "cell_type": "code",
   "execution_count": 6,
   "metadata": {},
   "outputs": [
    {
     "name": "stdout",
     "output_type": "stream",
     "text": [
      "The graph with highest clustering coefficient is Graph C\n"
     ]
    }
   ],
   "source": [
    "idx_max = list_clust.index(max(list_clust))\n",
    "print(f\"The graph with highest clustering coefficient is Graph {list_grp[idx_max]}\")"
   ]
  },
  {
   "cell_type": "code",
   "execution_count": null,
   "metadata": {},
   "outputs": [],
   "source": []
  }
 ],
 "metadata": {
  "kernelspec": {
   "display_name": "Python 3",
   "language": "python",
   "name": "python3"
  },
  "language_info": {
   "codemirror_mode": {
    "name": "ipython",
    "version": 3
   },
   "file_extension": ".py",
   "mimetype": "text/x-python",
   "name": "python",
   "nbconvert_exporter": "python",
   "pygments_lexer": "ipython3",
   "version": "3.7.3"
  }
 },
 "nbformat": 4,
 "nbformat_minor": 2
}
