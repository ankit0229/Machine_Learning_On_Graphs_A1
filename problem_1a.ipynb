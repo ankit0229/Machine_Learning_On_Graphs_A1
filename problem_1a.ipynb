{
 "cells": [
  {
   "cell_type": "code",
   "execution_count": 1,
   "metadata": {},
   "outputs": [],
   "source": [
    "import snap\n",
    "G5 = snap.LoadEdgeList(snap.PNGraph, \"D:\\M.TECH SEM 2\\MLN\\Assignments\\A1\\wiki\\Wiki-Vote.txt\", 0, 1)"
   ]
  },
  {
   "cell_type": "code",
   "execution_count": 2,
   "metadata": {},
   "outputs": [],
   "source": [
    "snap.DrawGViz(G5, snap.gvlDot, \"graph.png\", \"graph 1\")"
   ]
  },
  {
   "cell_type": "code",
   "execution_count": 3,
   "metadata": {},
   "outputs": [
    {
     "name": "stdout",
     "output_type": "stream",
     "text": [
      "Total no. of nodes = 7115\n"
     ]
    }
   ],
   "source": [
    "cnt_nodes = G5.GetNodes()\n",
    "print(f\"Total no. of nodes = {cnt_nodes}\")"
   ]
  },
  {
   "cell_type": "code",
   "execution_count": 4,
   "metadata": {},
   "outputs": [
    {
     "name": "stdout",
     "output_type": "stream",
     "text": [
      "Number of nodes having a self-loop = 0\n"
     ]
    }
   ],
   "source": [
    "cnt_self_nodes = snap.CntSelfEdges(G5)\n",
    "print(f\"Number of nodes having a self-loop = {cnt_self_nodes}\")"
   ]
  },
  {
   "cell_type": "code",
   "execution_count": 5,
   "metadata": {},
   "outputs": [
    {
     "name": "stdout",
     "output_type": "stream",
     "text": [
      "Number of edges in the graph that are not self-loops =  103689\n"
     ]
    }
   ],
   "source": [
    "Count_dir_edges = snap.CntUniqDirEdges(G5)\n",
    "Count_self_edges = snap.CntSelfEdges(G5)\n",
    "count_non_self_edges = Count_dir_edges - Count_self_edges\n",
    "print(f\"Number of edges in the graph that are not self-loops =  {count_non_self_edges}\")"
   ]
  },
  {
   "cell_type": "code",
   "execution_count": 6,
   "metadata": {},
   "outputs": [
    {
     "name": "stdout",
     "output_type": "stream",
     "text": [
      "Number of unique pairs of vertices having an edge between them =  100762\n"
     ]
    }
   ],
   "source": [
    "cnt_unq_undir = snap.CntUniqUndirEdges(G5)\n",
    "print(f\"Number of unique pairs of vertices having an edge between them =  {cnt_unq_undir}\")"
   ]
  },
  {
   "cell_type": "code",
   "execution_count": 7,
   "metadata": {},
   "outputs": [
    {
     "name": "stdout",
     "output_type": "stream",
     "text": [
      "The no. of unique bidirectional edges are = 2927\n"
     ]
    }
   ],
   "source": [
    "cnt_bidir = snap.CntUniqBiDirEdges(G5)\n",
    "print(f\"The no. of unique bidirectional edges are = {cnt_bidir}\")"
   ]
  },
  {
   "cell_type": "code",
   "execution_count": 8,
   "metadata": {},
   "outputs": [
    {
     "name": "stdout",
     "output_type": "stream",
     "text": [
      "The no. of nodes with zero indegree is = 4734\n"
     ]
    }
   ],
   "source": [
    "cnt_zero_indegree = snap.CntInDegNodes(G5, 0)\n",
    "print(f\"The no. of nodes with zero indegree is = {cnt_zero_indegree}\")"
   ]
  },
  {
   "cell_type": "code",
   "execution_count": 9,
   "metadata": {},
   "outputs": [
    {
     "name": "stdout",
     "output_type": "stream",
     "text": [
      "The no. of nodes with zero outdegree is = 1005\n"
     ]
    }
   ],
   "source": [
    "cnt_zero_outdegree = snap.CntOutDegNodes(G5, 0)\n",
    "print(f\"The no. of nodes with zero outdegree is = {cnt_zero_outdegree}\")"
   ]
  },
  {
   "cell_type": "code",
   "execution_count": 10,
   "metadata": {},
   "outputs": [
    {
     "name": "stdout",
     "output_type": "stream",
     "text": [
      "Number of connected components in the network =  5840\n"
     ]
    }
   ],
   "source": [
    "strong_com = snap.TCnComV()\n",
    "snap.GetSccs(G5, strong_com)\n",
    "weak_com = snap.TCnComV()\n",
    "snap.GetWccs(G5, weak_com)\n",
    "cnt_conn_com = len(strong_com) + len(weak_com)\n",
    "print(f\"Number of connected components in the network =  {cnt_conn_com}\")"
   ]
  },
  {
   "cell_type": "code",
   "execution_count": 11,
   "metadata": {},
   "outputs": [
    {
     "name": "stdout",
     "output_type": "stream",
     "text": [
      "The no. of nodes with indegree greater than 10 is  = 1906\n"
     ]
    }
   ],
   "source": [
    "cnts_in_degrees = snap.TIntPrV()\n",
    "snap.GetInDegCnt(G5, cnts_in_degrees)\n",
    "cnt_in_10 = 0\n",
    "for pair in cnts_in_degrees:\n",
    "    if pair.GetVal1() > 10:\n",
    "        cnt_in_10 += pair.GetVal2()\n",
    "\n",
    "print(f\"The no. of nodes with indegree greater than 10 is  = {cnt_in_10}\")"
   ]
  },
  {
   "cell_type": "code",
   "execution_count": 12,
   "metadata": {},
   "outputs": [
    {
     "name": "stdout",
     "output_type": "stream",
     "text": [
      "The no. of nodes with outdegree greater than 10 is  = 1612\n"
     ]
    }
   ],
   "source": [
    "cnts_out_degrees = snap.TIntPrV()\n",
    "snap.GetOutDegCnt(G5, cnts_out_degrees)\n",
    "cnt_out_10 = 0\n",
    "for pair in cnts_out_degrees:\n",
    "    if pair.GetVal1() > 10:\n",
    "        cnt_out_10 += pair.GetVal2()\n",
    "\n",
    "print(f\"The no. of nodes with outdegree greater than 10 is  = {cnt_out_10}\")"
   ]
  },
  {
   "cell_type": "code",
   "execution_count": null,
   "metadata": {},
   "outputs": [],
   "source": []
  }
 ],
 "metadata": {
  "kernelspec": {
   "display_name": "Python 3",
   "language": "python",
   "name": "python3"
  },
  "language_info": {
   "codemirror_mode": {
    "name": "ipython",
    "version": 3
   },
   "file_extension": ".py",
   "mimetype": "text/x-python",
   "name": "python",
   "nbconvert_exporter": "python",
   "pygments_lexer": "ipython3",
   "version": "3.7.3"
  }
 },
 "nbformat": 4,
 "nbformat_minor": 2
}
