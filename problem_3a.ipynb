{
 "cells": [
  {
   "cell_type": "code",
   "execution_count": 1,
   "metadata": {},
   "outputs": [
    {
     "name": "stdout",
     "output_type": "stream",
     "text": [
      "No. of nodes = 5243\n",
      "No. of edges = 14484\n"
     ]
    }
   ],
   "source": [
    "import networkx\n",
    "import random\n",
    "\n",
    "Grph_a = networkx.Graph()\n",
    "cnt_nodes = 5242\n",
    "cnt_edges = 14484\n",
    "prob_thresh = 0.00105440471\n",
    "for i in range(1, cnt_nodes + 1):\n",
    "    Grph_a.add_node(i)\n",
    "\n",
    "dict_edge_added = {}\n",
    "list_all_edges = []\n",
    "for i in range(cnt_nodes):\n",
    "    for j in range(i,cnt_nodes):\n",
    "        pair = (i,j)\n",
    "        list_all_edges.append(pair)\n",
    "        dict_edge_added[pair] = 0\n",
    "\n",
    "prob_sing = 2 / (cnt_nodes * (cnt_nodes - 1))\n",
    "cnt_list_all_edges = len(list_all_edges)\n",
    "ls_size = cnt_list_all_edges + 1\n",
    "cum_prob = [0]*ls_size\n",
    "cum_prob[0] = 0\n",
    "sum_prob = prob_sing\n",
    "for k in range(1, cnt_list_all_edges):\n",
    "    cum_prob[k] = sum_prob\n",
    "    sum_prob += prob_sing\n",
    "cum_prob[cnt_list_all_edges] = 1\n",
    "gen_edge = 0\n",
    "\n",
    "curr_idx_edge = 0\n",
    "while gen_edge != cnt_edges:\n",
    "    prob_rand = random.randint(0, cnt_list_all_edges-1)\n",
    "    prob_01 = random.uniform(0, 1)\n",
    "    if prob_01 > prob_thresh:\n",
    "        curr_edge = list_all_edges[prob_rand]\n",
    "\n",
    "        if dict_edge_added.get(curr_edge) == 0:\n",
    "            s, d = curr_edge[0], curr_edge[1]\n",
    "            Grph_a.add_edge(s, d)\n",
    "            dict_edge_added[curr_edge] = 1\n",
    "            gen_edge += 1\n",
    "                    \n",
    "cnt_edge = Grph_a.number_of_edges() \n",
    "cnt_node = Grph_a.number_of_nodes() \n",
    "print(f\"No. of nodes = {cnt_node}\")\n",
    "print(f\"No. of edges = {cnt_edge}\")\n",
    "list_edges = Grph_a.edges()\n",
    "#print(list_edges)"
   ]
  },
  {
   "cell_type": "code",
   "execution_count": null,
   "metadata": {},
   "outputs": [],
   "source": []
  }
 ],
 "metadata": {
  "kernelspec": {
   "display_name": "Python 3",
   "language": "python",
   "name": "python3"
  },
  "language_info": {
   "codemirror_mode": {
    "name": "ipython",
    "version": 3
   },
   "file_extension": ".py",
   "mimetype": "text/x-python",
   "name": "python",
   "nbconvert_exporter": "python",
   "pygments_lexer": "ipython3",
   "version": "3.7.3"
  }
 },
 "nbformat": 4,
 "nbformat_minor": 2
}
