{
 "cells": [
  {
   "cell_type": "code",
   "execution_count": 1,
   "metadata": {},
   "outputs": [],
   "source": [
    "import matplotlib.pyplot as plt"
   ]
  },
  {
   "cell_type": "code",
   "execution_count": 2,
   "metadata": {},
   "outputs": [
    {
     "name": "stdout",
     "output_type": "stream",
     "text": [
      "No. of nodes = 5242\n",
      "No. of edges = 14484\n"
     ]
    }
   ],
   "source": [
    "%run problem_3a.ipynb"
   ]
  },
  {
   "cell_type": "code",
   "execution_count": 3,
   "metadata": {},
   "outputs": [
    {
     "name": "stdout",
     "output_type": "stream",
     "text": [
      "No. of nodes in the graph = 5242\n",
      "No. of edges after adding immediate neighbours= 5242\n",
      "No. of edges after adding 2 hop neighbours= 10484\n",
      "No. of all possible edges = 13736661\n",
      "No. of remaining edges = 13726180\n",
      "Finally no. of edges in the graph after adding 4000 random edges also= 14484\n"
     ]
    }
   ],
   "source": [
    "%run problem_3b.ipynb"
   ]
  },
  {
   "cell_type": "code",
   "execution_count": 4,
   "metadata": {},
   "outputs": [
    {
     "name": "stdout",
     "output_type": "stream",
     "text": [
      "No. of edges in graph excluding repeats and including self loops = 14496\n",
      "No. of nodes in the graph = 5242\n",
      "No. of edges in graph exluding repeats and self loops = 14484\n"
     ]
    }
   ],
   "source": [
    "%run problem_3c.ipynb"
   ]
  },
  {
   "cell_type": "code",
   "execution_count": 5,
   "metadata": {},
   "outputs": [],
   "source": [
    "#Function to make a dictionary containing the no. of nodes with each degree\n",
    "import networkx\n",
    "from collections import Counter\n",
    "G_temp = networkx.Graph()\n",
    "def N_k_values(G_temp):\n",
    "    list_edges_temp = G_temp.edges()\n",
    "    list_nodes_temp = G_temp.nodes()\n",
    "    dict_node_degree = {}\n",
    "    for a in list_nodes_temp:\n",
    "        dict_node_degree[a] = 0\n",
    "    for x in list_edges_temp:\n",
    "        s = x[0]\n",
    "        d = x[1]\n",
    "        dict_node_degree[s] += 1\n",
    "        dict_node_degree[d] += 1\n",
    "    list_all_degress = []\n",
    "    for ky in dict_node_degree:\n",
    "        list_all_degress.append(dict_node_degree[ky])\n",
    "    dict_nk_val = Counter(list_all_degress)\n",
    "    return dict_nk_val"
   ]
  },
  {
   "cell_type": "code",
   "execution_count": 6,
   "metadata": {},
   "outputs": [],
   "source": [
    "#Function to which a dictionary of Nk values and total no. of nodes is passed and it returns\n",
    "#the list of x cordinates and y cordinates\n",
    "\n",
    "import math\n",
    "def plot_graph(n_k_val, n):\n",
    "    x_cord = []\n",
    "    y_cord = []\n",
    "    for a in n_k_val:\n",
    "        if a == 0:\n",
    "            x_cord.append(a)\n",
    "        else:\n",
    "            x_cord.append(math.log10(a))\n",
    "        prob = n_k_val[a] / n\n",
    "        y_cord.append(math.log10(prob))\n",
    "    ret_val = []\n",
    "    ret_val.append(x_cord)\n",
    "    ret_val.append(y_cord)\n",
    "    return ret_val"
   ]
  },
  {
   "cell_type": "code",
   "execution_count": 7,
   "metadata": {},
   "outputs": [
    {
     "data": {
      "image/png": "[encoded data removed]",
      "text/plain": [
       "<Figure size 432x288 with 1 Axes>"
      ]
     },
     "metadata": {},
     "output_type": "display_data"
    }
   ],
   "source": [
    "plt.style.use('seaborn-darkgrid')\n",
    "dict_grp_a_nk = N_k_values(Grph_a)\n",
    "N_a = len(Grph_a.nodes())\n",
    "ret_a = plot_graph(dict_grp_a_nk, N_a)\n",
    "\n",
    "plt.scatter(ret_a[0], ret_a[1], label= \"graph 3a\", color= \"red\",  marker= \"+\", s=40) \n",
    "\n",
    "dict_grp_b_nk = N_k_values(Grph_b)\n",
    "N_b = len(Grph_b.nodes())\n",
    "ret_b = plot_graph(dict_grp_b_nk, N_b)\n",
    "\n",
    "plt.scatter(ret_b[0], ret_b[1], label= \"graph 3b\", color= \"green\",  marker= \"*\", s=40) \n",
    "#plt.plot(x_cord, y_cord)\n",
    "\n",
    "#Doing for graph from part c\n",
    "dict_grp_c_nk = N_k_values(Grph_c)\n",
    "N_c = len(Grph_c.nodes())\n",
    "ret_c = plot_graph(dict_grp_c_nk, N_c)\n",
    "plt.scatter(ret_c[0], ret_c[1], label= \"graph 3c\", color= \"blue\",  marker= \"^\", s=40) \n",
    "\n",
    "plt.xlabel('log k')\n",
    "plt.ylabel('log P(k)')\n",
    "plt.legend() \n",
    "plt.show()"
   ]
  },
  {
   "cell_type": "code",
   "execution_count": null,
   "metadata": {},
   "outputs": [],
   "source": []
  }
 ],
 "metadata": {
  "kernelspec": {
   "display_name": "Python 3",
   "language": "python",
   "name": "python3"
  },
  "language_info": {
   "codemirror_mode": {
    "name": "ipython",
    "version": 3
   },
   "file_extension": ".py",
   "mimetype": "text/x-python",
   "name": "python",
   "nbconvert_exporter": "python",
   "pygments_lexer": "ipython3",
   "version": "3.7.3"
  }
 },
 "nbformat": 4,
 "nbformat_minor": 2
}
