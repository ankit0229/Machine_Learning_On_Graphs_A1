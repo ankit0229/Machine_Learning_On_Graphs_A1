{
 "cells": [
  {
   "cell_type": "code",
   "execution_count": 1,
   "metadata": {},
   "outputs": [],
   "source": [
    "import networkx\n",
    "import math\n",
    "from tqdm import tqdm"
   ]
  },
  {
   "cell_type": "code",
   "execution_count": 2,
   "metadata": {
    "scrolled": true
   },
   "outputs": [
    {
     "name": "stdout",
     "output_type": "stream",
     "text": [
      "The no. of strongly connected components in the graph is 142474\n",
      "The no. of weakly connected components in the graph is 10143\n",
      "The no. of edges in the largest weakly connected component is 322486\n",
      "The no. of nodes in the largest weakly connected component is 131188.0\n",
      "Sent nodes = 146874\n",
      "The highest page rank value is = 0.013980540412209575\n",
      "The node with highest page rank is 992484\n",
      "The lowest page rank value is = 2.4082266411394174e-06\n",
      "The node with lowest page rank is 78\n",
      "24361\n"
     ]
    },
    {
     "data": {
      "text/plain": [
       "<Figure size 640x480 with 1 Axes>"
      ]
     },
     "metadata": {},
     "output_type": "display_data"
    },
    {
     "name": "stdout",
     "output_type": "stream",
     "text": [
      "Top 5 hubs are: \n",
      "Hub 1  is  892029\n",
      "Hub 2  is  1194415\n",
      "Hub 3  is  359862\n",
      "Hub 4  is  648138\n",
      "Hub 5  is  470184\n",
      "\n",
      "Top 5 authorities are: \n",
      "Authority 1  is  22656\n",
      "Authority 2  is  157882\n",
      "Authority 3  is  571407\n",
      "Authority 4  is  57695\n",
      "Authority 5  is  139985\n",
      "\n",
      " Top 5 hub scores are [0.07336380373389548, 0.05955074418794487, 0.05687564588068672, 0.05559306276715878, 0.05317942934583511]\n",
      "\n",
      " Top 5 authority scores are [0.6047239730413133, 0.2986993488728824, 0.2839071934144654, 0.26930508258231756, 0.24940086742800438]\n"
     ]
    }
   ],
   "source": [
    "%run problem_2a.ipynb\n"
   ]
  },
  {
   "cell_type": "code",
   "execution_count": 3,
   "metadata": {},
   "outputs": [],
   "source": [
    "def HITS(G, max_iters, tol):\n",
    "    dict_edges = {}\n",
    "    list_edges = G.edges()\n",
    "    \n",
    "    for a in list_edges:\n",
    "        dict_edges[a] = 1\n",
    "    \n",
    "    list_nodes = G.nodes()\n",
    "    cnt_nodes = len(list_nodes)\n",
    "    initial_val = 1 / cnt_nodes\n",
    "    dict_hub_val = {}\n",
    "    dict_auth_val = {}\n",
    "    \n",
    "    for ab in list_nodes:\n",
    "        dict_hub_val[ab] = initial_val\n",
    "        dict_auth_val[ab] = initial_val\n",
    "    \n",
    "    dict_hub = {}\n",
    "    dict_auth = {}\n",
    "    \n",
    "    #Creating dictionaries of hubs and authority\n",
    "    for x in list_edges:\n",
    "        s = x[0]\n",
    "        d = x[1]\n",
    "        if dict_hub.get(s) is None:\n",
    "            empt = [d]\n",
    "            dict_hub[s] = empt\n",
    "        else:\n",
    "            dict_hub[s].append(d)\n",
    "\n",
    "        if dict_auth.get(d) is None:\n",
    "            empt = [s]\n",
    "            dict_auth[d] = empt\n",
    "        else:\n",
    "            dict_auth[d].append(s)\n",
    "    \n",
    "    cnt_iter = 1\n",
    "    for i in range(max_iters):\n",
    "        #Updating authority values first\n",
    "        for val in dict_auth:\n",
    "            req_hubs = dict_auth[val]\n",
    "            new_auth_score = 0\n",
    "            for ax in req_hubs:\n",
    "                new_auth_score += dict_hub_val[ax]\n",
    "            \n",
    "            dict_auth_val[val] = dict_auth_val[val] + new_auth_score\n",
    "        \n",
    "        #Copying prev hub val dict to calcualte L1 norm\n",
    "        dict_prev_hub_val = {}\n",
    "        for kk in dict_hub_val:\n",
    "            dict_prev_hub_val[kk] = dict_hub_val[kk]\n",
    "        \n",
    "        #Updating the hub values now\n",
    "        for val in dict_hub:\n",
    "            req_auth = dict_hub[val]\n",
    "            new_hub_score = 0\n",
    "            for ax in req_auth:\n",
    "                new_hub_score += dict_auth_val[ax]\n",
    "            \n",
    "            dict_hub_val[val] = dict_hub_val[val] + new_hub_score\n",
    "            \n",
    "        #Now normalizing the authority scores\n",
    "        norm_factor_auth = 0\n",
    "        for a in dict_auth_val:\n",
    "            norm_factor_auth = norm_factor_auth + (dict_auth_val[a] * dict_auth_val[a])\n",
    "        \n",
    "        norm_factor_auth = math.sqrt(norm_factor_auth)\n",
    "        for value in dict_auth_val:\n",
    "            dict_auth_val[value] = dict_auth_val[value] / norm_factor_auth\n",
    "        \n",
    "        #Now normalizing the hub scores\n",
    "        nor_factor_hub = 0\n",
    "        for a in dict_hub_val:\n",
    "            nor_factor_hub = nor_factor_hub + (dict_hub_val[a] * dict_hub_val[a])\n",
    "        \n",
    "        nor_factor_hub = math.sqrt(nor_factor_hub)\n",
    "        for value in dict_hub_val:\n",
    "            dict_hub_val[value] = dict_hub_val[value] / nor_factor_hub\n",
    "    \n",
    "    return dict_hub_val, dict_auth_val"
   ]
  },
  {
   "cell_type": "code",
   "execution_count": 4,
   "metadata": {},
   "outputs": [
    {
     "name": "stdout",
     "output_type": "stream",
     "text": [
      "L2 norm of the difference between estimated and true hub scores = 0.25522106810235295\n",
      "L2 norm of the difference between estimated and true authority scores = 0.2466908447353253\n"
     ]
    }
   ],
   "source": [
    "\n",
    "directory = r'D:\\M.TECH SEM 2\\MLN\\Assignments\\A1\\mln_a1\\mln_a1\\so.txt'\n",
    "fp = open(directory, \"r\")\n",
    "text = fp.read()\n",
    "fp.close()\n",
    "list_lines = text.split(\"\\n\")\n",
    "list_edges = []\n",
    "for a in list_lines:\n",
    "    b = a.split(\"\\t\")\n",
    "    if b[0] != b[1]:\n",
    "        pair = (b[0], b[1])\n",
    "        list_edges.append(pair)\n",
    "\n",
    "Graph_2b = networkx.Graph()\n",
    "Graph_2b.add_edges_from(list_edges)\n",
    "cnt_nodes = len(Graph_2b.nodes())\n",
    "auth_val_dict, hub_val_dict = HITS(Graph_2b, 500, 0)\n",
    "\n",
    "l2_norm_diff_hub = 0\n",
    "for a in hub_val_dict:\n",
    "    if dict_hub_lib.get(int(a)) is not None:\n",
    "        diff = hub_val_dict[a] - dict_hub_lib[int(a)]\n",
    "        l2_norm_diff_hub = l2_norm_diff_hub + (diff * diff)\n",
    "\n",
    "l2_norm_diff_hub = math.sqrt(l2_norm_diff_hub)\n",
    "\n",
    "l2_norm_diff_auth = 0\n",
    "for a in auth_val_dict:\n",
    "    if dict_auth_lib.get(int(a)) is not None:\n",
    "        diff = auth_val_dict[a] - dict_auth_lib[int(a)]\n",
    "        l2_norm_diff_auth = l2_norm_diff_auth + (diff * diff)\n",
    "l2_norm_diff_auth = math.sqrt(l2_norm_diff_auth)\n",
    "\n",
    "print(f\"L2 norm of the difference between estimated and true hub scores = {l2_norm_diff_hub}\")\n",
    "print(f\"L2 norm of the difference between estimated and true authority scores = {l2_norm_diff_auth}\")"
   ]
  },
  {
   "cell_type": "code",
   "execution_count": null,
   "metadata": {},
   "outputs": [],
   "source": []
  }
 ],
 "metadata": {
  "kernelspec": {
   "display_name": "Python 3",
   "language": "python",
   "name": "python3"
  },
  "language_info": {
   "codemirror_mode": {
    "name": "ipython",
    "version": 3
   },
   "file_extension": ".py",
   "mimetype": "text/x-python",
   "name": "python",
   "nbconvert_exporter": "python",
   "pygments_lexer": "ipython3",
   "version": "3.7.3"
  }
 },
 "nbformat": 4,
 "nbformat_minor": 2
}
