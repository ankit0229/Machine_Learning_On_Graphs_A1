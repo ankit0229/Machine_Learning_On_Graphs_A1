{
 "cells": [
  {
   "cell_type": "code",
   "execution_count": 3,
   "metadata": {},
   "outputs": [
    {
     "name": "stdout",
     "output_type": "stream",
     "text": [
      "No. of edges in graph excluding repeats and including self loops = 14496\n"
     ]
    }
   ],
   "source": [
    "import networkx\n",
    "G_old = networkx.Graph()\n",
    "\n",
    "directory = r'D:\\M.TECH SEM 2\\MLN\\Assignments\\A1\\mln_a1\\mln_a1\\arxiv.txt'\n",
    "fp = open(directory, \"r\")\n",
    "text = fp.read()\n",
    "fp.close()\n",
    "list_lines = text.split(\"\\n\")\n",
    "len_list_lines = len(list_lines)\n",
    "list_data = list_lines[4: len_list_lines]\n",
    "list_all_edges = []\n",
    "for x in list_data:\n",
    "    a = x.split(\"\\t\")\n",
    "    s = a[0]\n",
    "    d = a[1]\n",
    "    pair = (s,d)\n",
    "    list_all_edges.append(pair)\n",
    "#print(f\"No.of edges in arxiv.txt = {len(list_all_edges)}\")\n",
    "G_old.add_edges_from(list_all_edges)\n",
    "list_G_old_edges = G_old.edges()\n",
    "print(f\"No. of edges in graph excluding repeats and including self loops = {len(list_G_old_edges)}\")\n",
    "#print(len(G_old.nodes()))"
   ]
  },
  {
   "cell_type": "code",
   "execution_count": 4,
   "metadata": {},
   "outputs": [
    {
     "name": "stdout",
     "output_type": "stream",
     "text": [
      "No. of nodes in the graph = 5242\n",
      "No. of edges in graph exluding repeats and self loops = 14484\n"
     ]
    }
   ],
   "source": [
    "Grph_c = networkx.Graph()\n",
    "total_nodes = G_old.nodes()\n",
    "for yy in total_nodes:\n",
    "    Grph_c.add_node(yy)\n",
    "list_after_processing = []\n",
    "dict_edge_present = {}\n",
    "for x in list_all_edges:\n",
    "    dict_edge_present[x] = 0\n",
    "\n",
    "for x in list_all_edges:\n",
    "    s = x[0]\n",
    "    d = x[1]\n",
    "    if s != d and (dict_edge_present[x] == 0):\n",
    "        dict_edge_present[x] = 1\n",
    "        list_after_processing.append(x)\n",
    "#print(f\"No. of edges in list after pre-processing = {len(list_after_processing)}\")\n",
    "Grph_c.add_edges_from(list_after_processing)\n",
    "list_Grph_c_edges = Grph_c.edges()\n",
    "print(f\"No. of nodes in the graph = {len(Grph_c.nodes())}\")\n",
    "print(f\"No. of edges in graph exluding repeats and self loops = {len(list_Grph_c_edges)}\")\n",
    "#print(list_Grph_c_edges)"
   ]
  },
  {
   "cell_type": "code",
   "execution_count": null,
   "metadata": {},
   "outputs": [],
   "source": []
  }
 ],
 "metadata": {
  "kernelspec": {
   "display_name": "Python 3",
   "language": "python",
   "name": "python3"
  },
  "language_info": {
   "codemirror_mode": {
    "name": "ipython",
    "version": 3
   },
   "file_extension": ".py",
   "mimetype": "text/x-python",
   "name": "python",
   "nbconvert_exporter": "python",
   "pygments_lexer": "ipython3",
   "version": "3.7.3"
  }
 },
 "nbformat": 4,
 "nbformat_minor": 2
}
