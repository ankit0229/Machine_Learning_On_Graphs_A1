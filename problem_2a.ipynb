{
 "cells": [
  {
   "cell_type": "code",
   "execution_count": 1,
   "metadata": {},
   "outputs": [],
   "source": [
    "import snap\n",
    "Graph_2a = snap.LoadEdgeList(snap.PNGraph, \"D:\\M.TECH SEM 2\\MLN\\Assignments\\A1\\mln_a1\\mln_a1\\so.txt\", 0, 1)"
   ]
  },
  {
   "cell_type": "code",
   "execution_count": 2,
   "metadata": {},
   "outputs": [
    {
     "name": "stdout",
     "output_type": "stream",
     "text": [
      "The no. of strongly connected components in the graph is 142474\n"
     ]
    }
   ],
   "source": [
    "strong_com = snap.TCnComV()\n",
    "snap.GetSccs(Graph_2a, strong_com)\n",
    "print(f\"The no. of strongly connected components in the graph is {len(strong_com)}\")"
   ]
  },
  {
   "cell_type": "code",
   "execution_count": 3,
   "metadata": {},
   "outputs": [
    {
     "name": "stdout",
     "output_type": "stream",
     "text": [
      "The no. of weakly connected components in the graph is 10143\n"
     ]
    }
   ],
   "source": [
    "weak_com = snap.TCnComV()\n",
    "snap.GetWccs(Graph_2a, weak_com)\n",
    "print(f\"The no. of weakly connected components in the graph is {len(weak_com)}\")"
   ]
  },
  {
   "cell_type": "code",
   "execution_count": 4,
   "metadata": {},
   "outputs": [
    {
     "name": "stdout",
     "output_type": "stream",
     "text": [
      "The no. of edges in the largest weakly connected component is 322486\n"
     ]
    }
   ],
   "source": [
    "max_weak_conn = snap.GetMxWcc(Graph_2a)\n",
    "edge_list = max_weak_conn.Edges()\n",
    "cnt_node_max_weak = 0\n",
    "for ed in edge_list:\n",
    "    cnt_node_max_weak += 1\n",
    "\n",
    "print(f\"The no. of edges in the largest weakly connected component is {cnt_node_max_weak}\")"
   ]
  },
  {
   "cell_type": "code",
   "execution_count": 5,
   "metadata": {},
   "outputs": [
    {
     "name": "stdout",
     "output_type": "stream",
     "text": [
      "The no. of nodes in the largest weakly connected component is 131188.0\n"
     ]
    }
   ],
   "source": [
    "cnt_total_nodes = snap.CntNonZNodes(Graph_2a)\n",
    "#Getting the fraction of nodes in largest weakly component below\n",
    "max_weak_rel_node = snap.GetMxWccSz(Graph_2a)\n",
    "#Getting no. of nodes in the maximum weakly connected component\n",
    "cnt_max_weak_nodes = max_weak_rel_node * cnt_total_nodes\n",
    "print(f\"The no. of nodes in the largest weakly connected component is {cnt_max_weak_nodes}\")"
   ]
  },
  {
   "cell_type": "code",
   "execution_count": 8,
   "metadata": {},
   "outputs": [
    {
     "name": "stdout",
     "output_type": "stream",
     "text": [
      "Sent nodes = 146874\n",
      "The highest page rank value is = 0.013980540412209575\n",
      "The node with highest page rank is 992484\n",
      "The lowest page rank value is = 2.4082266411394174e-06\n",
      "The node with lowest page rank is 78\n",
      "24361\n"
     ]
    },
    {
     "data": {
      "image/png": "[encoded data removed]",
      "text/plain": [
       "<Figure size 432x288 with 1 Axes>"
      ]
     },
     "metadata": {},
     "output_type": "display_data"
    }
   ],
   "source": [
    "#Finding the page rank distribution of the graph\n",
    "from collections import Counter\n",
    "import matplotlib.pyplot as plt\n",
    "plt.style.use('seaborn-darkgrid')\n",
    "\n",
    "hash_rank = snap.TIntFltH()\n",
    "sent_nodes = 0\n",
    "iter = Graph_2a.Nodes()\n",
    "for a in iter:\n",
    "    sent_nodes += 1\n",
    "print(f\"Sent nodes = {sent_nodes}\")\n",
    "snap.GetPageRank(Graph_2a, hash_rank)\n",
    "list_page_ranks = []\n",
    "list_nodes_ret = []\n",
    "for val in hash_rank:\n",
    "    #print(val, hash_rank[val])\n",
    "    list_page_ranks.append(hash_rank[val])\n",
    "    list_nodes_ret.append(val)\n",
    "#print(list_page_ranks)\n",
    "idx_max_rank = list_page_ranks.index(max(list_page_ranks))\n",
    "idx_min_rank = list_page_ranks.index(min(list_page_ranks))\n",
    "print(f\"The highest page rank value is = {list_page_ranks[idx_max_rank]}\")\n",
    "print(f\"The node with highest page rank is {list_nodes_ret[idx_max_rank]}\")\n",
    "\n",
    "print(f\"The lowest page rank value is = {list_page_ranks[idx_min_rank]}\")\n",
    "print(f\"The node with lowest page rank is {list_nodes_ret[idx_min_rank]}\")\n",
    "count_nodes = Graph_2a.GetNodes()\n",
    "dict_cntr_page_rank = Counter(list_page_ranks)\n",
    "x_cord = []\n",
    "y_cord = []\n",
    "for mn in dict_cntr_page_rank:\n",
    "    x_cord.append(mn)\n",
    "    a = dict_cntr_page_rank[mn] / count_nodes\n",
    "    y_cord.append(dict_cntr_page_rank[mn])\n",
    "\n",
    "plt.scatter(x_cord, y_cord, label= \"no. of nodes\")\n",
    "print(len(x_cord))\n",
    "plt.xlabel('PageRanks')\n",
    "plt.ylabel('No. of nodes')\n",
    "plt.legend() \n",
    "plt.show()"
   ]
  },
  {
   "cell_type": "code",
   "execution_count": 7,
   "metadata": {},
   "outputs": [
    {
     "name": "stdout",
     "output_type": "stream",
     "text": [
      "Top 5 hubs are: \n",
      "Hub 1  is  892029\n",
      "Hub 2  is  1194415\n",
      "Hub 3  is  359862\n",
      "Hub 4  is  648138\n",
      "Hub 5  is  470184\n",
      "\n",
      "Top 5 authorities are: \n",
      "Authority 1  is  22656\n",
      "Authority 2  is  157882\n",
      "Authority 3  is  571407\n",
      "Authority 4  is  57695\n",
      "Authority 5  is  139985\n",
      "\n",
      " Top 5 hub scores are [0.07336380373389548, 0.05955074418794487, 0.05687564588068672, 0.05559306276715878, 0.05317942934583511]\n",
      "\n",
      " Top 5 authority scores are [0.6047239730413133, 0.2986993488728824, 0.2839071934144654, 0.26930508258231756, 0.24940086742800438]\n"
     ]
    }
   ],
   "source": [
    "hash_hub = snap.TIntFltH()\n",
    "hash_auth = snap.TIntFltH()\n",
    "snap.GetHits(Graph_2a, hash_hub, hash_auth)\n",
    "list_hub_pairs = []\n",
    "list_auth_pairs = []\n",
    "dict_hub_lib = {}\n",
    "dict_auth_lib = {}\n",
    "for val in hash_hub:\n",
    "    pair = [val, hash_hub[val]]\n",
    "    list_hub_pairs.append(pair)\n",
    "    dict_hub_lib[val] = float(hash_hub[val])\n",
    "for val in hash_auth:\n",
    "    pair = [val, hash_auth[val]]\n",
    "    list_auth_pairs.append(pair)\n",
    "    dict_auth_lib[val] = float(hash_auth[val])\n",
    "\n",
    "list_hub_pairs.sort(key=lambda x: x[1], reverse = True)\n",
    "list_auth_pairs.sort(key=lambda x: x[1],reverse = True)\n",
    "\n",
    "top_5_hub = []\n",
    "top_5_auth = []\n",
    "top_5_hub_scores = []\n",
    "top_5_auth_scores = []\n",
    "for i in range(5):\n",
    "    top_5_hub.append(list_hub_pairs[i][0])\n",
    "    top_5_auth.append(list_auth_pairs[i][0])\n",
    "    top_5_hub_scores.append(list_hub_pairs[i][1])\n",
    "    top_5_auth_scores.append(list_auth_pairs[i][1])\n",
    "\n",
    "print(\"Top 5 hubs are: \")\n",
    "\n",
    "for i in range(1,6):\n",
    "    print(f\"Hub {i}  is  {top_5_hub[i-1]}\")\n",
    "\n",
    "print(\"\\nTop 5 authorities are: \")\n",
    "for i in range(1,6):\n",
    "    print(f\"Authority {i}  is  {top_5_auth[i-1]}\")\n",
    "\n",
    "print(f\"\\n Top 5 hub scores are {top_5_hub_scores}\")\n",
    "print(f\"\\n Top 5 authority scores are {top_5_auth_scores}\")"
   ]
  },
  {
   "cell_type": "code",
   "execution_count": null,
   "metadata": {},
   "outputs": [],
   "source": []
  }
 ],
 "metadata": {
  "kernelspec": {
   "display_name": "Python 3",
   "language": "python",
   "name": "python3"
  },
  "language_info": {
   "codemirror_mode": {
    "name": "ipython",
    "version": 3
   },
   "file_extension": ".py",
   "mimetype": "text/x-python",
   "name": "python",
   "nbconvert_exporter": "python",
   "pygments_lexer": "ipython3",
   "version": "3.7.3"
  }
 },
 "nbformat": 4,
 "nbformat_minor": 2
}
