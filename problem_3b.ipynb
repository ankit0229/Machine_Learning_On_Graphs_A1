{
 "cells": [
  {
   "cell_type": "code",
   "execution_count": 1,
   "metadata": {},
   "outputs": [
    {
     "name": "stdout",
     "output_type": "stream",
     "text": [
      "No. of nodes in the graph = 5242\n",
      "No. of edges after adding immediate neighbours= 5242\n"
     ]
    }
   ],
   "source": [
    "import networkx\n",
    "import random\n",
    "\n",
    "Grph_b = networkx.Graph()\n",
    "# Connecting the nodes to their direct neighbours\n",
    "dict_edge_exists = {}\n",
    "cnt_nodes = 5242\n",
    "for i in range(1, cnt_nodes + 1):\n",
    "    Grph_b.add_node(i)\n",
    "for i in range(1, cnt_nodes + 1):\n",
    "    if i == cnt_nodes:\n",
    "        Grph_b.add_edge(i, 1)\n",
    "        pair = (i, 1)\n",
    "        dict_edge_exists[pair] = 1\n",
    "    else:\n",
    "        Grph_b.add_edge(i, i + 1)\n",
    "        pair = (i, i + 1)\n",
    "        dict_edge_exists[pair] = 1\n",
    "\n",
    "list_edges = Grph_b.edges()\n",
    "list_nodes = Grph_b.nodes()\n",
    "print(f\"No. of nodes in the graph = {len(list_nodes)}\")\n",
    "print(f\"No. of edges after adding immediate neighbours= {len(list_edges)}\")"
   ]
  },
  {
   "cell_type": "code",
   "execution_count": 2,
   "metadata": {},
   "outputs": [
    {
     "name": "stdout",
     "output_type": "stream",
     "text": [
      "No. of edges after adding 2 hop neighbours= 10484\n"
     ]
    }
   ],
   "source": [
    "#Connecting the nodes to their 2 hop neighbours\n",
    "for i in range(1, cnt_nodes+1):\n",
    "    if i == cnt_nodes-1:\n",
    "        Grph_b.add_edge(i,1)\n",
    "        pair = (i,1)\n",
    "        dict_edge_exists[pair] = 1\n",
    "    elif i == cnt_nodes:\n",
    "        Grph_b.add_edge(i,2)\n",
    "        pair = (i,2)\n",
    "        dict_edge_exists[pair] = 1\n",
    "    else:\n",
    "        Grph_b.add_edge(i,i+2)\n",
    "        pair = (i,i+2)\n",
    "        dict_edge_exists[pair] = 1\n",
    "\n",
    "list_edges = Grph_b.edges()\n",
    "list_nodes = Grph_b.nodes()\n",
    "print(f\"No. of edges after adding 2 hop neighbours= {len(list_edges)}\")"
   ]
  },
  {
   "cell_type": "code",
   "execution_count": 3,
   "metadata": {},
   "outputs": [
    {
     "name": "stdout",
     "output_type": "stream",
     "text": [
      "No. of all possible edges = 13736661\n",
      "No. of remaining edges = 13726180\n"
     ]
    }
   ],
   "source": [
    "#Preparing a list of all possible edges in the graph\n",
    "list_all_possib_edges = []\n",
    "for i in range(1, cnt_nodes+1):\n",
    "    for j in range(i+1, cnt_nodes+1):\n",
    "        if i !=j:\n",
    "            pair = (i,j)\n",
    "            list_all_possib_edges.append(pair)\n",
    "\n",
    "print(f\"No. of all possible edges = {len(list_all_possib_edges)}\")\n",
    "#Finding a list of all remaining edges\n",
    "list_remaining_edges = []\n",
    "for x in list_all_possib_edges:\n",
    "    if dict_edge_exists.get(x) is None:\n",
    "        list_remaining_edges.append(x)\n",
    "\n",
    "#print(list_remaining_edges)\n",
    "print(f\"No. of remaining edges = {len(list_remaining_edges)}\")"
   ]
  },
  {
   "cell_type": "code",
   "execution_count": 4,
   "metadata": {},
   "outputs": [
    {
     "name": "stdout",
     "output_type": "stream",
     "text": [
      "Finally no. of edges in the graph after adding 4000 random edges also= 14484\n"
     ]
    }
   ],
   "source": [
    "#Now selecting an edge randomly from the list of all remaining edges and also checking that it should not\n",
    "#not have been already randomly selected\n",
    "\n",
    "dict_is_selected = {}\n",
    "c_part_edges = 0\n",
    "while c_part_edges != 4000:\n",
    "    a = random.randint(0,len(list_remaining_edges)-1)\n",
    "    rem_edge = list_remaining_edges[a]\n",
    "    if dict_is_selected.get(rem_edge) is None:\n",
    "        dict_is_selected[rem_edge] = 1\n",
    "        s = rem_edge[0]\n",
    "        d = rem_edge[1]\n",
    "        Grph_b.add_edge(s,d)\n",
    "        c_part_edges += 1\n",
    "\n",
    "print(f\"Finally no. of edges in the graph after adding 4000 random edges also= {len(Grph_b.edges())}\")"
   ]
  },
  {
   "cell_type": "code",
   "execution_count": null,
   "metadata": {},
   "outputs": [],
   "source": []
  },
  {
   "cell_type": "code",
   "execution_count": null,
   "metadata": {},
   "outputs": [],
   "source": []
  }
 ],
 "metadata": {
  "kernelspec": {
   "display_name": "Python 3",
   "language": "python",
   "name": "python3"
  },
  "language_info": {
   "codemirror_mode": {
    "name": "ipython",
    "version": 3
   },
   "file_extension": ".py",
   "mimetype": "text/x-python",
   "name": "python",
   "nbconvert_exporter": "python",
   "pygments_lexer": "ipython3",
   "version": "3.7.3"
  }
 },
 "nbformat": 4,
 "nbformat_minor": 2
}
